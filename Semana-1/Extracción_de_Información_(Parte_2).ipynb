{
  "nbformat": 4,
  "nbformat_minor": 0,
  "metadata": {
    "colab": {
      "name": "Extracción de Información (Parte 2).ipynb",
      "provenance": [],
      "authorship_tag": "ABX9TyNwbgX8fi+6fH5vaf6jLqHo",
      "include_colab_link": true
    },
    "kernelspec": {
      "name": "python3",
      "display_name": "Python 3"
    },
    "language_info": {
      "name": "python"
    }
  },
  "cells": [
    {
      "cell_type": "markdown",
      "metadata": {
        "id": "view-in-github",
        "colab_type": "text"
      },
      "source": [
        "<a href=\"https://colab.research.google.com/github/crismunoz/TALLER-NLP/blob/main/Semana-1/Extracci%C3%B3n_de_Informaci%C3%B3n_(Parte_2).ipynb\" target=\"_parent\"><img src=\"https://colab.research.google.com/assets/colab-badge.svg\" alt=\"Open In Colab\"/></a>"
      ]
    },
    {
      "cell_type": "markdown",
      "metadata": {
        "id": "Mr2knnToPfiT"
      },
      "source": [
        "#Extracción de Información\n",
        "\n",
        "### Instalación y Configuración Spacy"
      ]
    },
    {
      "cell_type": "code",
      "metadata": {
        "id": "-PLdDDrtjDLc"
      },
      "source": [
        "!pip install --upgrade spacy\n",
        "!python -m spacy download es_core_news_lg\n",
        "import spacy\n",
        "from spacy import displacy\n",
        "nlp = spacy.load(\"es_core_news_lg\")"
      ],
      "execution_count": null,
      "outputs": []
    },
    {
      "cell_type": "markdown",
      "metadata": {
        "id": "6wtFAm8UPrHC"
      },
      "source": [
        "## 1) Busqueda e Recuperación de la información"
      ]
    },
    {
      "cell_type": "code",
      "metadata": {
        "colab": {
          "base_uri": "https://localhost:8080/",
          "height": 105
        },
        "id": "hIb8dz8-IssT",
        "outputId": "ce891c9a-57c1-4f4e-c8f5-23b43910cbb4"
      },
      "source": [
        "from urllib.request import urlopen\n",
        "from bs4 import BeautifulSoup\n",
        "\n",
        "url_link = 'https://gestion.pe/peru/politica/se-creara-servicio-civil-agrario-para-jovenes-universitarios-dijo-pedro-castillo-fondo-mujer-rural-nndc-noticia/'\n",
        "\n",
        "html = urlopen(url_link)\n",
        "bsObj = BeautifulSoup(html, 'html.parser')\n",
        "description = ' '.join([p.text for p in bsObj.section.section.findAll('p',{'itemprop':'description'})])\n",
        "description"
      ],
      "execution_count": 85,
      "outputs": [
        {
          "output_type": "execute_result",
          "data": {
            "application/vnd.google.colaboratory.intrinsic+json": {
              "type": "string"
            },
            "text/plain": [
              "'El presidente de la República Pedro Castillo anunció la creación del denominado Servicio Civil Agrario - Secigra, con la finalidad de que “miles de jóvenes universitarios recién egresados” vayan al campo para brindar apoyo técnico “a nuestros agricultores y agricultoras”. “Tenemos en preparación un programa de servicio civil agrario, al que llamamos Secigra-Agrario, por lo cual miles de jóvenes universitarios, recién egresados, saldrán al campo a apoyar técnicamente a nuestro agricultores”, expresó. En su mensaje dijo que impulsará un fondo de la mujer rural. Fue durante el acto de lanzamiento de llamada segunda reforma agraria, iniciativa que según dijo, “también tiene rostro de mujer”. “La mujer productora del campo, la que lleva el plato caliente al agricultor y a la chacra [...] uno de cada tres productores agrarios en nuestro país es una dama y dentro de todos los hogares agropecuarios las mujeres cumplen un rol central en el trabajo productivo y en la alimentación y sustento de las familias”, expresó Castillo durante su discurso en la explanada del complejo arqueológico de Sacsayhuamán. Dicho fondo, según explicó, permitirá desplegar diversos programas de apoyo técnico, empresarial y social hacia las más de 700 mil productoras agropecuarias del país. “La segunda reforma agraria tiene también rostro de mujer, el de nuestras madres, hijas y esposas cuyo trabajo y esfuerzo vemos a diario”, manifestó. Asimismo, “la industrialización rural, mercados de productores y compras estatales, articulación gubernamental e intersectorial en el territorio, repoblamiento ganadero, crédito desde un banco de fomento agrario al servicio principalmente de la agricultura familiar y las cumbres regionales”. Más temprano la Presidencia del Consejo de Ministros detalló que para la puesta en marca de esta segunda reforma agraria el Ministerio de Desarrollo Agrario y Riego ha planteado “nueve ejes o líneas estratégicas de gestión”. Entre ellas: Seguridad alimentaria, asociatividad y cooperativismo, infraestructura hidráulica, servicio civil agrario-Secigra agrario”.  '"
            ]
          },
          "metadata": {},
          "execution_count": 85
        }
      ]
    },
    {
      "cell_type": "markdown",
      "metadata": {
        "id": "9yHr-1dXT9aj"
      },
      "source": [
        "## 2) Extracción de Información"
      ]
    },
    {
      "cell_type": "markdown",
      "metadata": {
        "id": "195fjz-UPa1Z"
      },
      "source": [
        "Análisar texto en: https://corenlp.run/"
      ]
    },
    {
      "cell_type": "code",
      "metadata": {
        "colab": {
          "base_uri": "https://localhost:8080/",
          "height": 297
        },
        "id": "pQs6V14jP9QS",
        "outputId": "7c55d153-555c-4851-9868-80e0b09744bb"
      },
      "source": [
        "doc = nlp(description)\n",
        "displacy.render(doc, style='ent', jupyter=True)"
      ],
      "execution_count": 93,
      "outputs": [
        {
          "output_type": "display_data",
          "data": {
            "text/html": [
              "<span class=\"tex2jax_ignore\"><div class=\"entities\" style=\"line-height: 2.5; direction: ltr\">El presidente de la \n",
              "<mark class=\"entity\" style=\"background: #ff9561; padding: 0.45em 0.6em; margin: 0 0.25em; line-height: 1; border-radius: 0.35em;\">\n",
              "    República\n",
              "    <span style=\"font-size: 0.8em; font-weight: bold; line-height: 1; border-radius: 0.35em; vertical-align: middle; margin-left: 0.5rem\">LOC</span>\n",
              "</mark>\n",
              " \n",
              "<mark class=\"entity\" style=\"background: #ddd; padding: 0.45em 0.6em; margin: 0 0.25em; line-height: 1; border-radius: 0.35em;\">\n",
              "    Pedro Castillo\n",
              "    <span style=\"font-size: 0.8em; font-weight: bold; line-height: 1; border-radius: 0.35em; vertical-align: middle; margin-left: 0.5rem\">PER</span>\n",
              "</mark>\n",
              " anunció la creación del denominado \n",
              "<mark class=\"entity\" style=\"background: #7aecec; padding: 0.45em 0.6em; margin: 0 0.25em; line-height: 1; border-radius: 0.35em;\">\n",
              "    Servicio Civil Agrario\n",
              "    <span style=\"font-size: 0.8em; font-weight: bold; line-height: 1; border-radius: 0.35em; vertical-align: middle; margin-left: 0.5rem\">ORG</span>\n",
              "</mark>\n",
              " - Secigra, con la finalidad de que “miles de jóvenes universitarios recién egresados” vayan al campo para brindar apoyo técnico “a nuestros agricultores y agricultoras”. “Tenemos en preparación un programa de servicio civil agrario, al que llamamos \n",
              "<mark class=\"entity\" style=\"background: #ddd; padding: 0.45em 0.6em; margin: 0 0.25em; line-height: 1; border-radius: 0.35em;\">\n",
              "    Secigra-Agrario\n",
              "    <span style=\"font-size: 0.8em; font-weight: bold; line-height: 1; border-radius: 0.35em; vertical-align: middle; margin-left: 0.5rem\">MISC</span>\n",
              "</mark>\n",
              ", por lo cual miles de jóvenes universitarios, recién egresados, saldrán al campo a apoyar técnicamente a nuestro agricultores”, expresó. En su mensaje dijo que impulsará un fondo de la mujer rural. Fue durante el acto de lanzamiento de llamada segunda reforma agraria, iniciativa que según dijo, “también tiene rostro de mujer”. “La mujer productora del campo, la que lleva el plato caliente al agricultor y a la chacra [...] uno de cada tres productores agrarios en nuestro país es una dama y dentro de todos los hogares agropecuarios las mujeres cumplen un rol central en el trabajo productivo y en la alimentación y sustento de las familias”, expresó \n",
              "<mark class=\"entity\" style=\"background: #ddd; padding: 0.45em 0.6em; margin: 0 0.25em; line-height: 1; border-radius: 0.35em;\">\n",
              "    Castillo\n",
              "    <span style=\"font-size: 0.8em; font-weight: bold; line-height: 1; border-radius: 0.35em; vertical-align: middle; margin-left: 0.5rem\">PER</span>\n",
              "</mark>\n",
              " durante su discurso en la explanada del complejo arqueológico de \n",
              "<mark class=\"entity\" style=\"background: #ff9561; padding: 0.45em 0.6em; margin: 0 0.25em; line-height: 1; border-radius: 0.35em;\">\n",
              "    Sacsayhuamán\n",
              "    <span style=\"font-size: 0.8em; font-weight: bold; line-height: 1; border-radius: 0.35em; vertical-align: middle; margin-left: 0.5rem\">LOC</span>\n",
              "</mark>\n",
              ". Dicho fondo, según explicó, permitirá desplegar diversos programas de apoyo técnico, empresarial y social hacia las más de 700 mil productoras agropecuarias del país. “La segunda reforma agraria tiene también rostro de mujer, el de nuestras madres, hijas y esposas cuyo trabajo y esfuerzo vemos a diario”, manifestó. Asimismo, “la industrialización rural, mercados de productores y compras estatales, articulación gubernamental e intersectorial en el territorio, repoblamiento ganadero, crédito desde un banco de fomento agrario al servicio principalmente de la agricultura familiar y las cumbres regionales”. Más temprano la \n",
              "<mark class=\"entity\" style=\"background: #ddd; padding: 0.45em 0.6em; margin: 0 0.25em; line-height: 1; border-radius: 0.35em;\">\n",
              "    Presidencia del Consejo de Ministros\n",
              "    <span style=\"font-size: 0.8em; font-weight: bold; line-height: 1; border-radius: 0.35em; vertical-align: middle; margin-left: 0.5rem\">MISC</span>\n",
              "</mark>\n",
              " detalló que para la puesta en marca de esta segunda reforma agraria el \n",
              "<mark class=\"entity\" style=\"background: #ff9561; padding: 0.45em 0.6em; margin: 0 0.25em; line-height: 1; border-radius: 0.35em;\">\n",
              "    Ministerio de Desarrollo Agrario\n",
              "    <span style=\"font-size: 0.8em; font-weight: bold; line-height: 1; border-radius: 0.35em; vertical-align: middle; margin-left: 0.5rem\">LOC</span>\n",
              "</mark>\n",
              " y \n",
              "<mark class=\"entity\" style=\"background: #ddd; padding: 0.45em 0.6em; margin: 0 0.25em; line-height: 1; border-radius: 0.35em;\">\n",
              "    Riego\n",
              "    <span style=\"font-size: 0.8em; font-weight: bold; line-height: 1; border-radius: 0.35em; vertical-align: middle; margin-left: 0.5rem\">PER</span>\n",
              "</mark>\n",
              " ha planteado “nueve ejes o líneas estratégicas de gestión”. \n",
              "<mark class=\"entity\" style=\"background: #ddd; padding: 0.45em 0.6em; margin: 0 0.25em; line-height: 1; border-radius: 0.35em;\">\n",
              "    Entre ellas: Seguridad\n",
              "    <span style=\"font-size: 0.8em; font-weight: bold; line-height: 1; border-radius: 0.35em; vertical-align: middle; margin-left: 0.5rem\">MISC</span>\n",
              "</mark>\n",
              " alimentaria, asociatividad y cooperativismo, infraestructura hidráulica, servicio civil agrario-Secigra agrario”.  </div></span>"
            ],
            "text/plain": [
              "<IPython.core.display.HTML object>"
            ]
          },
          "metadata": {}
        }
      ]
    }
  ]
}