{
  "nbformat": 4,
  "nbformat_minor": 0,
  "metadata": {
    "colab": {
      "name": "Extracción de Información (Parte 1).ipynb",
      "provenance": [],
      "authorship_tag": "ABX9TyPxJLZ3tQ+vDgQo+C4c68Wh",
      "include_colab_link": true
    },
    "kernelspec": {
      "name": "python3",
      "display_name": "Python 3"
    },
    "language_info": {
      "name": "python"
    }
  },
  "cells": [
    {
      "cell_type": "markdown",
      "metadata": {
        "id": "view-in-github",
        "colab_type": "text"
      },
      "source": [
        "<a href=\"https://colab.research.google.com/github/crismunoz/TALLER-NLP/blob/main/Semana-1/Extracci%C3%B3n_de_Informaci%C3%B3n_(Parte_1).ipynb\" target=\"_parent\"><img src=\"https://colab.research.google.com/assets/colab-badge.svg\" alt=\"Open In Colab\"/></a>"
      ]
    },
    {
      "cell_type": "code",
      "metadata": {
        "id": "ImhAKKpOnOm9"
      },
      "source": [
        "!pip install wordcloud\n",
        "!pip install --upgrade spacy\n",
        "!python -m spacy download es_core_news_lg"
      ],
      "execution_count": null,
      "outputs": []
    },
    {
      "cell_type": "code",
      "metadata": {
        "id": "hAQjF4hunx_e"
      },
      "source": [
        "import spacy\n",
        "from spacy import displacy\n",
        "from nltk.stem.snowball import SnowballStemmer\n",
        "import pandas as pd\n",
        "\n",
        "stemmer = SnowballStemmer(\"spanish\")\n",
        "nlp = spacy.load(\"es_core_news_lg\")"
      ],
      "execution_count": 31,
      "outputs": []
    },
    {
      "cell_type": "code",
      "metadata": {
        "colab": {
          "base_uri": "https://localhost:8080/",
          "height": 70
        },
        "id": "ppedJFG7nRjb",
        "outputId": "68d2504f-eca4-4bca-b288-6e82f3d64d77"
      },
      "source": [
        "text=\"\"\"El presidente de la República Pedro Castillo anunció la creación del denominado \\\n",
        "Servicio Civil Agrario - Secigra, con la finalidad de que “miles de jóvenes universitarios \\\n",
        "recién egresados” vayan al campo para brindar apoyo técnico “a nuestros agricultores \\\n",
        "y agricultoras”. “Tenemos en preparación un programa de servicio civil agrario, al que llamamos \\\n",
        "Secigra-Agrario, por lo cual miles de jóvenes universitarios, recién egresados, saldrán al \\\n",
        "campo a apoyar técnicamente a nuestro agricultores”, expresó.\"\"\"\n",
        "text"
      ],
      "execution_count": 3,
      "outputs": [
        {
          "output_type": "execute_result",
          "data": {
            "application/vnd.google.colaboratory.intrinsic+json": {
              "type": "string"
            },
            "text/plain": [
              "'El presidente de la República Pedro Castillo anunció la creación del denominado Servicio Civil Agrario - Secigra, con la finalidad de que “miles de jóvenes universitarios recién egresados” vayan al campo para brindar apoyo técnico “a nuestros agricultores y agricultoras”. “Tenemos en preparación un programa de servicio civil agrario, al que llamamos Secigra-Agrario, por lo cual miles de jóvenes universitarios, recién egresados, saldrán al campo a apoyar técnicamente a nuestro agricultores”, expresó.'"
            ]
          },
          "metadata": {},
          "execution_count": 3
        }
      ]
    },
    {
      "cell_type": "code",
      "metadata": {
        "colab": {
          "base_uri": "https://localhost:8080/",
          "height": 677
        },
        "id": "aEHCWIWzo3ro",
        "outputId": "6e9dee69-c111-4da0-8c5e-e1fd8fafce05"
      },
      "source": [
        "df = pd.DataFrame(columns=['text','lemma','stem'])\n",
        "doc = nlp(text)\n",
        "for word in doc:\n",
        "  df = df.append({'text':word.text,  'lemma': word.lemma_, 'stem':stemmer.stem(word.text)}, ignore_index=True)\n",
        "df.head(20)"
      ],
      "execution_count": 32,
      "outputs": [
        {
          "output_type": "execute_result",
          "data": {
            "text/html": [
              "<div>\n",
              "<style scoped>\n",
              "    .dataframe tbody tr th:only-of-type {\n",
              "        vertical-align: middle;\n",
              "    }\n",
              "\n",
              "    .dataframe tbody tr th {\n",
              "        vertical-align: top;\n",
              "    }\n",
              "\n",
              "    .dataframe thead th {\n",
              "        text-align: right;\n",
              "    }\n",
              "</style>\n",
              "<table border=\"1\" class=\"dataframe\">\n",
              "  <thead>\n",
              "    <tr style=\"text-align: right;\">\n",
              "      <th></th>\n",
              "      <th>text</th>\n",
              "      <th>lemma</th>\n",
              "      <th>stem</th>\n",
              "    </tr>\n",
              "  </thead>\n",
              "  <tbody>\n",
              "    <tr>\n",
              "      <th>0</th>\n",
              "      <td>El</td>\n",
              "      <td>el</td>\n",
              "      <td>el</td>\n",
              "    </tr>\n",
              "    <tr>\n",
              "      <th>1</th>\n",
              "      <td>presidente</td>\n",
              "      <td>presidente</td>\n",
              "      <td>president</td>\n",
              "    </tr>\n",
              "    <tr>\n",
              "      <th>2</th>\n",
              "      <td>de</td>\n",
              "      <td>de</td>\n",
              "      <td>de</td>\n",
              "    </tr>\n",
              "    <tr>\n",
              "      <th>3</th>\n",
              "      <td>la</td>\n",
              "      <td>el</td>\n",
              "      <td>la</td>\n",
              "    </tr>\n",
              "    <tr>\n",
              "      <th>4</th>\n",
              "      <td>República</td>\n",
              "      <td>República</td>\n",
              "      <td>republ</td>\n",
              "    </tr>\n",
              "    <tr>\n",
              "      <th>5</th>\n",
              "      <td>Pedro</td>\n",
              "      <td>Pedro</td>\n",
              "      <td>pedr</td>\n",
              "    </tr>\n",
              "    <tr>\n",
              "      <th>6</th>\n",
              "      <td>Castillo</td>\n",
              "      <td>Castillo</td>\n",
              "      <td>castill</td>\n",
              "    </tr>\n",
              "    <tr>\n",
              "      <th>7</th>\n",
              "      <td>anunció</td>\n",
              "      <td>anunciar</td>\n",
              "      <td>anunc</td>\n",
              "    </tr>\n",
              "    <tr>\n",
              "      <th>8</th>\n",
              "      <td>la</td>\n",
              "      <td>el</td>\n",
              "      <td>la</td>\n",
              "    </tr>\n",
              "    <tr>\n",
              "      <th>9</th>\n",
              "      <td>creación</td>\n",
              "      <td>creación</td>\n",
              "      <td>creacion</td>\n",
              "    </tr>\n",
              "    <tr>\n",
              "      <th>10</th>\n",
              "      <td>del</td>\n",
              "      <td>del</td>\n",
              "      <td>del</td>\n",
              "    </tr>\n",
              "    <tr>\n",
              "      <th>11</th>\n",
              "      <td>denominado</td>\n",
              "      <td>denominado</td>\n",
              "      <td>denomin</td>\n",
              "    </tr>\n",
              "    <tr>\n",
              "      <th>12</th>\n",
              "      <td>Servicio</td>\n",
              "      <td>Servicio</td>\n",
              "      <td>servici</td>\n",
              "    </tr>\n",
              "    <tr>\n",
              "      <th>13</th>\n",
              "      <td>Civil</td>\n",
              "      <td>Civil</td>\n",
              "      <td>civil</td>\n",
              "    </tr>\n",
              "    <tr>\n",
              "      <th>14</th>\n",
              "      <td>Agrario</td>\n",
              "      <td>Agrario</td>\n",
              "      <td>agrari</td>\n",
              "    </tr>\n",
              "    <tr>\n",
              "      <th>15</th>\n",
              "      <td>-</td>\n",
              "      <td>-</td>\n",
              "      <td>-</td>\n",
              "    </tr>\n",
              "    <tr>\n",
              "      <th>16</th>\n",
              "      <td>Secigra</td>\n",
              "      <td>Secigra</td>\n",
              "      <td>secigr</td>\n",
              "    </tr>\n",
              "    <tr>\n",
              "      <th>17</th>\n",
              "      <td>,</td>\n",
              "      <td>,</td>\n",
              "      <td>,</td>\n",
              "    </tr>\n",
              "    <tr>\n",
              "      <th>18</th>\n",
              "      <td>con</td>\n",
              "      <td>con</td>\n",
              "      <td>con</td>\n",
              "    </tr>\n",
              "    <tr>\n",
              "      <th>19</th>\n",
              "      <td>la</td>\n",
              "      <td>el</td>\n",
              "      <td>la</td>\n",
              "    </tr>\n",
              "  </tbody>\n",
              "</table>\n",
              "</div>"
            ],
            "text/plain": [
              "          text       lemma       stem\n",
              "0           El          el         el\n",
              "1   presidente  presidente  president\n",
              "2           de          de         de\n",
              "3           la          el         la\n",
              "4    República   República     republ\n",
              "5        Pedro       Pedro       pedr\n",
              "6     Castillo    Castillo    castill\n",
              "7      anunció    anunciar      anunc\n",
              "8           la          el         la\n",
              "9     creación    creación   creacion\n",
              "10         del         del        del\n",
              "11  denominado  denominado    denomin\n",
              "12    Servicio    Servicio    servici\n",
              "13       Civil       Civil      civil\n",
              "14     Agrario     Agrario     agrari\n",
              "15           -           -          -\n",
              "16     Secigra     Secigra     secigr\n",
              "17           ,           ,          ,\n",
              "18         con         con        con\n",
              "19          la          el         la"
            ]
          },
          "metadata": {},
          "execution_count": 32
        }
      ]
    }
  ]
}