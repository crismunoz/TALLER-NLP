{
  "nbformat": 4,
  "nbformat_minor": 0,
  "metadata": {
    "colab": {
      "name": "Formatos de datos JSON y PDF.ipynb",
      "provenance": [],
      "authorship_tag": "ABX9TyOGSZt1C7eTRwnc0dSPsK+x",
      "include_colab_link": true
    },
    "kernelspec": {
      "name": "python3",
      "display_name": "Python 3"
    },
    "language_info": {
      "name": "python"
    }
  },
  "cells": [
    {
      "cell_type": "markdown",
      "metadata": {
        "id": "view-in-github",
        "colab_type": "text"
      },
      "source": [
        "<a href=\"https://colab.research.google.com/github/crismunoz/TALLER-NLP/blob/main/Semana-1/Formatos_de_datos_JSON_y_PDF.ipynb\" target=\"_parent\"><img src=\"https://colab.research.google.com/assets/colab-badge.svg\" alt=\"Open In Colab\"/></a>"
      ]
    },
    {
      "cell_type": "markdown",
      "metadata": {
        "id": "hbn0cATG403E"
      },
      "source": [
        "# Formatos de datos: JSON\n",
        "\n",
        "### 1) Formato JSON\n",
        "Creamos un arqchivo JSON"
      ]
    },
    {
      "cell_type": "code",
      "metadata": {
        "colab": {
          "base_uri": "https://localhost:8080/"
        },
        "id": "a1FoL1mFxPio",
        "outputId": "83a1d4f8-82af-49e9-d187-324d0dcb65e8"
      },
      "source": [
        "%%writefile data_clase.json\n",
        "{\n",
        "    \"Presentador\":\"Cristian Enrique Muñoz Villalobos\",\n",
        "    \"Universidad\":\"Pontificia Universidad Católica del Perú\",\n",
        "    \"Año\":2021,\n",
        "    \"Tema\":\"Taller NLP\",\n",
        "    \"Online\":true,\n",
        "    \"Asistentes\":[\n",
        "                    {\n",
        "                      \"Nombre\": \"Juan\",        \n",
        "                      \"edad\":30,\n",
        "                      \"Departamento\":\"Ciencias Sociales\"\n",
        "                    },\n",
        "                    {\n",
        "                      \"Nombre\": \"Maria\",        \n",
        "                      \"edad\":34,\n",
        "                      \"Departamento\":\"Informatica\"\n",
        "                    }\n",
        "                  ]\n",
        "}"
      ],
      "execution_count": 12,
      "outputs": [
        {
          "output_type": "stream",
          "name": "stdout",
          "text": [
            "Overwriting data_clase.json\n"
          ]
        }
      ]
    },
    {
      "cell_type": "markdown",
      "metadata": {
        "id": "H9mcS8j7_guj"
      },
      "source": [
        "Abrimos el archivo json creado"
      ]
    },
    {
      "cell_type": "code",
      "metadata": {
        "id": "n47WFB543kBE"
      },
      "source": [
        "import json\n",
        "data = json.load(open('data_clase.json','rb'))"
      ],
      "execution_count": 13,
      "outputs": []
    },
    {
      "cell_type": "markdown",
      "metadata": {
        "id": "NyUeu0I4_jlX"
      },
      "source": [
        "Observamos el valor de la llave \"Presentador\":"
      ]
    },
    {
      "cell_type": "code",
      "metadata": {
        "colab": {
          "base_uri": "https://localhost:8080/",
          "height": 35
        },
        "id": "f_OAS19Q3-_U",
        "outputId": "c000a396-2ff3-4e0d-86a1-9a40321e9fda"
      },
      "source": [
        "data['Presentador']"
      ],
      "execution_count": 14,
      "outputs": [
        {
          "output_type": "execute_result",
          "data": {
            "application/vnd.google.colaboratory.intrinsic+json": {
              "type": "string"
            },
            "text/plain": [
              "'Cristian Enrique Muñoz Villalobos'"
            ]
          },
          "metadata": {},
          "execution_count": 14
        }
      ]
    },
    {
      "cell_type": "markdown",
      "metadata": {
        "id": "GZ5DHF8T_r28"
      },
      "source": [
        "El valor puede ser un entero:"
      ]
    },
    {
      "cell_type": "code",
      "metadata": {
        "colab": {
          "base_uri": "https://localhost:8080/"
        },
        "id": "HDxGvESY358Z",
        "outputId": "bd60aff5-40c4-42e8-d6e2-bca60d441825"
      },
      "source": [
        "data['Año']"
      ],
      "execution_count": 16,
      "outputs": [
        {
          "output_type": "execute_result",
          "data": {
            "text/plain": [
              "2021"
            ]
          },
          "metadata": {},
          "execution_count": 16
        }
      ]
    },
    {
      "cell_type": "markdown",
      "metadata": {
        "id": "iIxVN8mE_u9b"
      },
      "source": [
        "Tambien puede ser un booleano"
      ]
    },
    {
      "cell_type": "code",
      "metadata": {
        "colab": {
          "base_uri": "https://localhost:8080/"
        },
        "id": "nY6Eakrw4jza",
        "outputId": "0208fe82-379e-4a00-fd22-1d1ea47c2674"
      },
      "source": [
        "data['Online']"
      ],
      "execution_count": 17,
      "outputs": [
        {
          "output_type": "execute_result",
          "data": {
            "text/plain": [
              "True"
            ]
          },
          "metadata": {},
          "execution_count": 17
        }
      ]
    },
    {
      "cell_type": "markdown",
      "metadata": {
        "id": "llSY_TmH_xFJ"
      },
      "source": [
        "O otro ojeto con mas componentes:"
      ]
    },
    {
      "cell_type": "code",
      "metadata": {
        "colab": {
          "base_uri": "https://localhost:8080/"
        },
        "id": "qpeJ0mQH4ogL",
        "outputId": "b7463966-33e4-4d69-c699-c1e798d18952"
      },
      "source": [
        "data['Asistentes']"
      ],
      "execution_count": 18,
      "outputs": [
        {
          "output_type": "execute_result",
          "data": {
            "text/plain": [
              "[{'Departamento': 'Ciencias Sociales', 'Nombre': 'Juan', 'edad': 30},\n",
              " {'Departamento': 'Informatica', 'Nombre': 'Maria', 'edad': 34}]"
            ]
          },
          "metadata": {},
          "execution_count": 18
        }
      ]
    },
    {
      "cell_type": "markdown",
      "metadata": {
        "id": "RrpWcsiL5Jn0"
      },
      "source": [
        "# 2) Formato PDF (Extracción de Texto Digital)"
      ]
    },
    {
      "cell_type": "code",
      "metadata": {
        "id": "-M3a-YBK6o9K"
      },
      "source": [
        "!pip install pdftotext"
      ],
      "execution_count": null,
      "outputs": []
    },
    {
      "cell_type": "markdown",
      "metadata": {
        "id": "yNQqOROt_3Fx"
      },
      "source": [
        "Función auxiliar para convertir PDF en texto"
      ]
    },
    {
      "cell_type": "code",
      "metadata": {
        "id": "AIJrBnFo6nyB"
      },
      "source": [
        "from pdfminer.pdfinterp import PDFResourceManager, PDFPageInterpreter\n",
        "from pdfminer.converter import TextConverter\n",
        "from pdfminer.layout import LAParams\n",
        "from pdfminer.pdfpage import PDFPage\n",
        "from io import StringIO\n",
        "\n",
        "def convert_pdf_to_txt(path):\n",
        "    rsrcmgr = PDFResourceManager()\n",
        "    retstr = StringIO()\n",
        "    laparams = LAParams()\n",
        "    device = TextConverter(rsrcmgr, retstr, laparams=laparams)\n",
        "    fp = open(path, 'rb')\n",
        "    interpreter = PDFPageInterpreter(rsrcmgr, device)\n",
        "    pagenos=set()\n",
        "\n",
        "    for page in PDFPage.get_pages(fp):\n",
        "        interpreter.process_page(page)\n",
        "\n",
        "    text = retstr.getvalue()\n",
        "\n",
        "    fp.close()\n",
        "    device.close()\n",
        "    retstr.close()\n",
        "    return text"
      ],
      "execution_count": 5,
      "outputs": []
    },
    {
      "cell_type": "code",
      "metadata": {
        "id": "Q8CxtNCb63KQ"
      },
      "source": [
        "text = convert_pdf_to_txt('1616-2019-CG_LICA-resumen.pdf')\n",
        "print(text)"
      ],
      "execution_count": null,
      "outputs": []
    },
    {
      "cell_type": "markdown",
      "metadata": {
        "id": "UOeAC-i9_WUE"
      },
      "source": [
        "### 3) Extracción de PDF (Tablas Digitales)"
      ]
    },
    {
      "cell_type": "code",
      "metadata": {
        "id": "3jw-9j_99jGU"
      },
      "source": [
        "!apt install ghostscript python3-tk\n",
        "!pip install \"camelot-py[base]\""
      ],
      "execution_count": null,
      "outputs": []
    },
    {
      "cell_type": "code",
      "metadata": {
        "id": "qCJ0EkJA9dXt"
      },
      "source": [
        "import camelot\n",
        "tables = camelot.read_pdf('1616-2019-CG_LICA-resumen.pdf', pages='all')"
      ],
      "execution_count": 19,
      "outputs": []
    },
    {
      "cell_type": "code",
      "metadata": {
        "colab": {
          "base_uri": "https://localhost:8080/"
        },
        "id": "4WhyeoS7-b3d",
        "outputId": "aafe48d5-9f1a-4620-a126-6fb639c037a7"
      },
      "source": [
        "tables[0]"
      ],
      "execution_count": 27,
      "outputs": [
        {
          "output_type": "execute_result",
          "data": {
            "text/plain": [
              "<Table shape=(9, 2)>"
            ]
          },
          "metadata": {},
          "execution_count": 27
        }
      ]
    },
    {
      "cell_type": "code",
      "metadata": {
        "colab": {
          "base_uri": "https://localhost:8080/"
        },
        "id": "TgV7wcW79ezo",
        "outputId": "26920309-56e1-4832-e34e-34869fc623d8"
      },
      "source": [
        "tables[0].parsing_report"
      ],
      "execution_count": 26,
      "outputs": [
        {
          "output_type": "execute_result",
          "data": {
            "text/plain": [
              "{'accuracy': 100.0, 'order': 1, 'page': 1, 'whitespace': 0.0}"
            ]
          },
          "metadata": {},
          "execution_count": 26
        }
      ]
    },
    {
      "cell_type": "code",
      "metadata": {
        "colab": {
          "base_uri": "https://localhost:8080/",
          "height": 332
        },
        "id": "SIEspSFl-fwK",
        "outputId": "1dbaca1e-837f-4f42-dce3-a375f970284d"
      },
      "source": [
        "tables[0].df"
      ],
      "execution_count": 28,
      "outputs": [
        {
          "output_type": "execute_result",
          "data": {
            "text/html": [
              "<div>\n",
              "<style scoped>\n",
              "    .dataframe tbody tr th:only-of-type {\n",
              "        vertical-align: middle;\n",
              "    }\n",
              "\n",
              "    .dataframe tbody tr th {\n",
              "        vertical-align: top;\n",
              "    }\n",
              "\n",
              "    .dataframe thead th {\n",
              "        text-align: right;\n",
              "    }\n",
              "</style>\n",
              "<table border=\"1\" class=\"dataframe\">\n",
              "  <thead>\n",
              "    <tr style=\"text-align: right;\">\n",
              "      <th></th>\n",
              "      <th>0</th>\n",
              "      <th>1</th>\n",
              "    </tr>\n",
              "  </thead>\n",
              "  <tbody>\n",
              "    <tr>\n",
              "      <th>0</th>\n",
              "      <td>N° de informe:</td>\n",
              "      <td>1616-2019-CG/LICA</td>\n",
              "    </tr>\n",
              "    <tr>\n",
              "      <th>1</th>\n",
              "      <td>Título del informe:</td>\n",
              "      <td>Proceso \\nde \\nconvocatoria \\nde \\npersonal \\n...</td>\n",
              "    </tr>\n",
              "    <tr>\n",
              "      <th>2</th>\n",
              "      <td>Objetivo de la auditoría:</td>\n",
              "      <td>Determinar  si  los  procesos  de  contratació...</td>\n",
              "    </tr>\n",
              "    <tr>\n",
              "      <th>3</th>\n",
              "      <td>Entidad auditada:</td>\n",
              "      <td>MUNICIPALIDAD DISTRITAL DE LA MOLINA</td>\n",
              "    </tr>\n",
              "    <tr>\n",
              "      <th>4</th>\n",
              "      <td>Monto auditado:</td>\n",
              "      <td>S/ 549,300.00</td>\n",
              "    </tr>\n",
              "    <tr>\n",
              "      <th>5</th>\n",
              "      <td>Monto examinado:</td>\n",
              "      <td>S/ 549,300.00</td>\n",
              "    </tr>\n",
              "    <tr>\n",
              "      <th>6</th>\n",
              "      <td>Ubigeo:</td>\n",
              "      <td>Región: \\nProvincia: \\nDistrito: \\nLIMA\\nLIMA\\...</td>\n",
              "    </tr>\n",
              "    <tr>\n",
              "      <th>7</th>\n",
              "      <td>Fecha de emisión de \\ninforme:</td>\n",
              "      <td>11/07/2019</td>\n",
              "    </tr>\n",
              "    <tr>\n",
              "      <th>8</th>\n",
              "      <td>Unidad orgánica que emite \\nel informe:</td>\n",
              "      <td>SUBGERENCIA DE CONTROL DE LIMA METROPOLITANA Y...</td>\n",
              "    </tr>\n",
              "  </tbody>\n",
              "</table>\n",
              "</div>"
            ],
            "text/plain": [
              "                                         0                                                  1\n",
              "0                           N° de informe:                                  1616-2019-CG/LICA\n",
              "1                      Título del informe:  Proceso \\nde \\nconvocatoria \\nde \\npersonal \\n...\n",
              "2                Objetivo de la auditoría:  Determinar  si  los  procesos  de  contratació...\n",
              "3                        Entidad auditada:               MUNICIPALIDAD DISTRITAL DE LA MOLINA\n",
              "4                          Monto auditado:                                      S/ 549,300.00\n",
              "5                         Monto examinado:                                      S/ 549,300.00\n",
              "6                                  Ubigeo:  Región: \\nProvincia: \\nDistrito: \\nLIMA\\nLIMA\\...\n",
              "7           Fecha de emisión de \\ninforme:                                         11/07/2019\n",
              "8  Unidad orgánica que emite \\nel informe:  SUBGERENCIA DE CONTROL DE LIMA METROPOLITANA Y..."
            ]
          },
          "metadata": {},
          "execution_count": 28
        }
      ]
    },
    {
      "cell_type": "code",
      "metadata": {
        "id": "1biccg-H-tL9"
      },
      "source": [
        "for idx,table in enumerate(tables):\n",
        "  table.to_excel(f'tables_{idx+1}.xlsx')"
      ],
      "execution_count": 31,
      "outputs": []
    }
  ]
}